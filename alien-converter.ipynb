{
 "cells": [
  {
   "cell_type": "markdown",
   "metadata": {},
   "source": [
    "```\n",
    "tests = [\n",
    "    (\"MMVI\", 2006),\n",
    "    (\"MCMXLIV\", 1944),\n",
    "    (\"M\", 1000),\n",
    "    (\"CM\", 900),\n",
    "    (\"III\", 3),\n",
    "    (\"MCMIII\", 1903),\n",
    "    (\"MCMIII\", 1903)\n",
    "]\n",
    "```"
   ]
  },
  {
   "cell_type": "code",
   "execution_count": 8,
   "metadata": {
    "collapsed": true
   },
   "outputs": [],
   "source": [
    "class RomanLikeConverter {\n",
    "    public readonly Dictionary<string, int> dictionary;\n",
    "    public readonly string separator;\n",
    "    \n",
    "    public RomanLikeConverter(\n",
    "        Dictionary<string, int> dictionary,\n",
    "        string separator\n",
    "    ) {\n",
    "        this.dictionary = dictionary;\n",
    "        this.separator = separator;\n",
    "    }\n",
    "\n",
    "    private string[] Split(string num) {\n",
    "        if (this.separator == \"\")\n",
    "            return num\n",
    "                .Select(c => c.ToString())\n",
    "                .ToArray();\n",
    "        else\n",
    "            return num\n",
    "                .Split(\n",
    "                    new string[] { this.separator },\n",
    "                    StringSplitOptions.None\n",
    "                );\n",
    "    }\n",
    "\n",
    "    public int ToInt(string num) {\n",
    "        var trans = this.Split(num)\n",
    "            .Select(s => this.dictionary[s])\n",
    "            .Concat(new int[] { 0 });\n",
    "\n",
    "        return trans\n",
    "            .Zip(trans.Skip(1), (a, b) => a < b ? -a : a)\n",
    "            .Sum(); \n",
    "    }\n",
    "}"
   ]
  },
  {
   "cell_type": "code",
   "execution_count": 9,
   "metadata": {
    "collapsed": true
   },
   "outputs": [],
   "source": [
    "var converter = new RomanLikeConverter(\n",
    "    new Dictionary<string, int>() {\n",
    "        {\"I\", 1},\n",
    "        {\"V\", 5},\n",
    "        {\"X\", 10},\n",
    "        {\"L\", 50},\n",
    "        {\"C\", 100},\n",
    "        {\"D\", 500},\n",
    "        {\"M\", 1000}\n",
    "    },\n",
    "    \"\"\n",
    ")"
   ]
  },
  {
   "cell_type": "code",
   "execution_count": 10,
   "metadata": {},
   "outputs": [
    {
     "data": {
      "text/html": [
       "<font style=\"color:Black\">1944\n",
       "</font>"
      ],
      "text/plain": [
       "1944\n"
      ]
     },
     "execution_count": 10,
     "metadata": {},
     "output_type": "execute_result"
    }
   ],
   "source": [
    "converter.ToInt(\"MCMXLIV\")"
   ]
  },
  {
   "cell_type": "code",
   "execution_count": null,
   "metadata": {
    "collapsed": true
   },
   "outputs": [],
   "source": []
  },
  {
   "cell_type": "code",
   "execution_count": null,
   "metadata": {
    "collapsed": true
   },
   "outputs": [],
   "source": []
  },
  {
   "cell_type": "code",
   "execution_count": null,
   "metadata": {
    "collapsed": true
   },
   "outputs": [],
   "source": []
  },
  {
   "cell_type": "code",
   "execution_count": null,
   "metadata": {
    "collapsed": true
   },
   "outputs": [],
   "source": []
  }
 ],
 "metadata": {
  "kernelspec": {
   "display_name": "C#",
   "language": "csharp",
   "name": "kernel-spec"
  },
  "language_info": {
   "name": "C#",
   "version": "0...0...1"
  }
 },
 "nbformat": 4,
 "nbformat_minor": 2
}
